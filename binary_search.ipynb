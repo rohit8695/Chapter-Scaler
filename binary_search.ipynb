{
 "cells": [
  {
   "cell_type": "markdown",
   "metadata": {},
   "source": [
    "## Binary Search"
   ]
  },
  {
   "cell_type": "code",
   "execution_count": 7,
   "metadata": {},
   "outputs": [
    {
     "name": "stdout",
     "output_type": "stream",
     "text": [
      "[110, 109, 108, 107, 106, 105, 104, 103, 102, 101, 100, 99, 98, 97, 96, 95, 94, 93, 92, 91]\n",
      "THE NUMBER IS NOT PRESENT IN THE LIST\n",
      "THE NUMBER IS NOT PRESENT IN THE LIST\n",
      "THE NUMBER IS NOT PRESENT IN THE LIST\n",
      "THE NUMBER IS NOT PRESENT IN THE LIST\n",
      "THE NUMBER IS NOT PRESENT IN THE LIST\n",
      "THE NUMBER IS NOT PRESENT IN THE LIST\n",
      "THE NUMBER IS NOT PRESENT IN THE LIST\n",
      "THE NUMBER IS NOT PRESENT IN THE LIST\n",
      "THE NUMBER IS NOT PRESENT IN THE LIST\n",
      "THE NUMBER IS NOT PRESENT IN THE LIST\n",
      "THE NUMBER IS NOT PRESENT IN THE LIST\n",
      "The number was found at position 99\n",
      "The number was found at position 98\n",
      "The number was found at position 97\n",
      "The number was found at position 96\n",
      "The number was found at position 95\n",
      "The number was found at position 94\n",
      "The number was found at position 93\n",
      "The number was found at position 92\n",
      "The number was found at position 91\n"
     ]
    }
   ],
   "source": [
    "def binary_search(arr, left, right, search) : \n",
    "    \n",
    "    if left >= right : \n",
    "        return \"THE NUMBER IS NOT PRESENT IN THE LIST\" \n",
    "    \n",
    "    mid = (left +right)//2 \n",
    "    if arr[mid] == search : \n",
    "        return f\"The number was found at position {mid}\"\n",
    "\n",
    "    if arr[mid] > search : \n",
    "        return binary_search(arr, left , mid, search) \n",
    "    else : \n",
    "        return binary_search(arr, mid+1, right, search)\n",
    "\n",
    "arr = list(range(100)) \n",
    "left = 0 \n",
    "right = len(arr) \n",
    "# search = int(input(\"Enter a number to check in the list: \")) \n",
    "\n",
    "search = list(range(110,90,-1))\n",
    "print(search)\n",
    "\n",
    "for i in search: \n",
    "    print(binary_search(arr, left, right, i))\n",
    "\n"
   ]
  },
  {
   "cell_type": "code",
   "execution_count": null,
   "metadata": {},
   "outputs": [],
   "source": []
  }
 ],
 "metadata": {
  "kernelspec": {
   "display_name": "Python 3.9.1 64-bit (system)",
   "language": "python",
   "name": "python3"
  },
  "language_info": {
   "codemirror_mode": {
    "name": "ipython",
    "version": 3
   },
   "file_extension": ".py",
   "mimetype": "text/x-python",
   "name": "python",
   "nbconvert_exporter": "python",
   "pygments_lexer": "ipython3",
   "version": "3.9.1"
  },
  "orig_nbformat": 4,
  "vscode": {
   "interpreter": {
    "hash": "eb79ba29542c144dd811710a33c3f672d46a730a07e871a5c60f51fcfe992ed4"
   }
  }
 },
 "nbformat": 4,
 "nbformat_minor": 2
}
